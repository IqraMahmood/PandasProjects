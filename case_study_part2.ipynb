{
 "cells": [
  {
   "cell_type": "code",
   "execution_count": 1,
   "metadata": {},
   "outputs": [],
   "source": [
    "import pandas as pd\n",
    "\n",
    "\n",
    "# Read in the data\n",
    "df = pd.read_csv('Cancellation Reasons List.csv')"
   ]
  },
  {
   "cell_type": "code",
   "execution_count": 2,
   "metadata": {},
   "outputs": [
    {
     "data": {
      "text/html": [
       "<div>\n",
       "<style scoped>\n",
       "    .dataframe tbody tr th:only-of-type {\n",
       "        vertical-align: middle;\n",
       "    }\n",
       "\n",
       "    .dataframe tbody tr th {\n",
       "        vertical-align: top;\n",
       "    }\n",
       "\n",
       "    .dataframe thead th {\n",
       "        text-align: right;\n",
       "    }\n",
       "</style>\n",
       "<table border=\"1\" class=\"dataframe\">\n",
       "  <thead>\n",
       "    <tr style=\"text-align: right;\">\n",
       "      <th></th>\n",
       "      <th>order_id</th>\n",
       "      <th>cancellation_reason_id</th>\n",
       "      <th>cancel_reason_text</th>\n",
       "    </tr>\n",
       "  </thead>\n",
       "  <tbody>\n",
       "    <tr>\n",
       "      <th>0</th>\n",
       "      <td>188424</td>\n",
       "      <td>60</td>\n",
       "      <td>NaN</td>\n",
       "    </tr>\n",
       "    <tr>\n",
       "      <th>1</th>\n",
       "      <td>188420</td>\n",
       "      <td>59</td>\n",
       "      <td>NaN</td>\n",
       "    </tr>\n",
       "    <tr>\n",
       "      <th>2</th>\n",
       "      <td>188401</td>\n",
       "      <td>51</td>\n",
       "      <td>NaN</td>\n",
       "    </tr>\n",
       "    <tr>\n",
       "      <th>3</th>\n",
       "      <td>188401</td>\n",
       "      <td>53</td>\n",
       "      <td>NaN</td>\n",
       "    </tr>\n",
       "    <tr>\n",
       "      <th>4</th>\n",
       "      <td>188396</td>\n",
       "      <td>53</td>\n",
       "      <td>NaN</td>\n",
       "    </tr>\n",
       "  </tbody>\n",
       "</table>\n",
       "</div>"
      ],
      "text/plain": [
       "   order_id  cancellation_reason_id cancel_reason_text\n",
       "0    188424                      60                NaN\n",
       "1    188420                      59                NaN\n",
       "2    188401                      51                NaN\n",
       "3    188401                      53                NaN\n",
       "4    188396                      53                NaN"
      ]
     },
     "execution_count": 2,
     "metadata": {},
     "output_type": "execute_result"
    }
   ],
   "source": [
    "df.head()"
   ]
  },
  {
   "cell_type": "code",
   "execution_count": 3,
   "metadata": {},
   "outputs": [
    {
     "data": {
      "text/plain": [
       "(6064, 3)"
      ]
     },
     "execution_count": 3,
     "metadata": {},
     "output_type": "execute_result"
    }
   ],
   "source": [
    "df.shape"
   ]
  },
  {
   "cell_type": "code",
   "execution_count": 4,
   "metadata": {},
   "outputs": [
    {
     "data": {
      "text/plain": [
       "57    1716\n",
       "63    1436\n",
       "55    1042\n",
       "53     605\n",
       "59     270\n",
       "52     265\n",
       "49     209\n",
       "58     139\n",
       "60     100\n",
       "30      91\n",
       "61      75\n",
       "28      26\n",
       "Name: cancellation_reason_id, dtype: int64"
      ]
     },
     "execution_count": 4,
     "metadata": {},
     "output_type": "execute_result"
    }
   ],
   "source": [
    "df['cancellation_reason_id'].value_counts().head(12)"
   ]
  },
  {
   "cell_type": "markdown",
   "metadata": {},
   "source": [
    "\n",
    "## Reasons for order cancellation \n",
    "- Here cancellation_reason_id 57 is the most common reason for cancellation. This is followed by 58 and 59. The reason for cancellation is not known for 60% of the cancelled bookings.\n",
    "- Cancellation reason for cancellation_reason_id 57 is  `SKU's NA` \n",
    "- Cancellation reason for  cancellation_reason_id 63 is `Customer Has Already Purchased It From Somewhere Else`\n",
    "- Cancellation reason for  cancellation_reason_id 55 is `Dukaan daar ka rawaiya theek nahi tha`"
   ]
  },
  {
   "cell_type": "markdown",
   "metadata": {},
   "source": [
    "##  suggestion\n",
    "- We should increase the most demanding SKU \n",
    "- We should increase the delivery time\n",
    "- We should train shopkeepers to behave nicely with customers.\n",
    "  \n"
   ]
  },
  {
   "cell_type": "code",
   "execution_count": 5,
   "metadata": {},
   "outputs": [
    {
     "data": {
      "text/plain": [
       " Shop Close                     313\n",
       " no service area                207\n",
       " No Service Area                192\n",
       " Cash Issue                     185\n",
       " Network issue                  137\n",
       " order cancel payment issue     123\n",
       " No Go Area                     105\n",
       " shop closed                     99\n",
       " Order Cancel Road Block         97\n",
       " Road Block                      89\n",
       " order cancel road block         82\n",
       " Shop close                      81\n",
       " cash issue                      77\n",
       " incomplete order                74\n",
       " order cancel shop close         73\n",
       "Name: cancel_reason_text, dtype: int64"
      ]
     },
     "execution_count": 5,
     "metadata": {},
     "output_type": "execute_result"
    }
   ],
   "source": [
    "df['cancel_reason_text'].value_counts().head(15)"
   ]
  },
  {
   "cell_type": "code",
   "execution_count": 6,
   "metadata": {},
   "outputs": [],
   "source": [
    "df1 = pd.read_csv(\"Cancellation Reasons.csv\")"
   ]
  },
  {
   "cell_type": "code",
   "execution_count": 7,
   "metadata": {},
   "outputs": [
    {
     "data": {
      "text/html": [
       "<div>\n",
       "<style scoped>\n",
       "    .dataframe tbody tr th:only-of-type {\n",
       "        vertical-align: middle;\n",
       "    }\n",
       "\n",
       "    .dataframe tbody tr th {\n",
       "        vertical-align: top;\n",
       "    }\n",
       "\n",
       "    .dataframe thead th {\n",
       "        text-align: right;\n",
       "    }\n",
       "</style>\n",
       "<table border=\"1\" class=\"dataframe\">\n",
       "  <thead>\n",
       "    <tr style=\"text-align: right;\">\n",
       "      <th></th>\n",
       "      <th>cancellation_reason_id</th>\n",
       "      <th>cancellation_reason_name</th>\n",
       "      <th>Complaint ID</th>\n",
       "    </tr>\n",
       "  </thead>\n",
       "  <tbody>\n",
       "    <tr>\n",
       "      <th>0</th>\n",
       "      <td>46</td>\n",
       "      <td>Shop Closed</td>\n",
       "      <td>2</td>\n",
       "    </tr>\n",
       "    <tr>\n",
       "      <th>1</th>\n",
       "      <td>47</td>\n",
       "      <td>Customer does not have cash</td>\n",
       "      <td>2</td>\n",
       "    </tr>\n",
       "    <tr>\n",
       "      <th>2</th>\n",
       "      <td>48</td>\n",
       "      <td>Other</td>\n",
       "      <td>2</td>\n",
       "    </tr>\n",
       "    <tr>\n",
       "      <th>3</th>\n",
       "      <td>49</td>\n",
       "      <td>Driver got late</td>\n",
       "      <td>3</td>\n",
       "    </tr>\n",
       "    <tr>\n",
       "      <th>4</th>\n",
       "      <td>50</td>\n",
       "      <td>Vehicle broke down</td>\n",
       "      <td>3</td>\n",
       "    </tr>\n",
       "  </tbody>\n",
       "</table>\n",
       "</div>"
      ],
      "text/plain": [
       "   cancellation_reason_id     cancellation_reason_name  Complaint ID\n",
       "0                      46                  Shop Closed             2\n",
       "1                      47  Customer does not have cash             2\n",
       "2                      48                        Other             2\n",
       "3                      49              Driver got late             3\n",
       "4                      50           Vehicle broke down             3"
      ]
     },
     "execution_count": 7,
     "metadata": {},
     "output_type": "execute_result"
    }
   ],
   "source": [
    "df1.head()"
   ]
  },
  {
   "cell_type": "code",
   "execution_count": 8,
   "metadata": {},
   "outputs": [
    {
     "data": {
      "text/html": [
       "<div>\n",
       "<style scoped>\n",
       "    .dataframe tbody tr th:only-of-type {\n",
       "        vertical-align: middle;\n",
       "    }\n",
       "\n",
       "    .dataframe tbody tr th {\n",
       "        vertical-align: top;\n",
       "    }\n",
       "\n",
       "    .dataframe thead th {\n",
       "        text-align: right;\n",
       "    }\n",
       "</style>\n",
       "<table border=\"1\" class=\"dataframe\">\n",
       "  <thead>\n",
       "    <tr style=\"text-align: right;\">\n",
       "      <th></th>\n",
       "      <th>order_id</th>\n",
       "      <th>cancellation_reason_id</th>\n",
       "      <th>cancel_reason_text</th>\n",
       "    </tr>\n",
       "  </thead>\n",
       "  <tbody>\n",
       "    <tr>\n",
       "      <th>0</th>\n",
       "      <td>188424</td>\n",
       "      <td>60</td>\n",
       "      <td>NaN</td>\n",
       "    </tr>\n",
       "    <tr>\n",
       "      <th>1</th>\n",
       "      <td>188420</td>\n",
       "      <td>59</td>\n",
       "      <td>NaN</td>\n",
       "    </tr>\n",
       "    <tr>\n",
       "      <th>2</th>\n",
       "      <td>188401</td>\n",
       "      <td>51</td>\n",
       "      <td>NaN</td>\n",
       "    </tr>\n",
       "    <tr>\n",
       "      <th>3</th>\n",
       "      <td>188401</td>\n",
       "      <td>53</td>\n",
       "      <td>NaN</td>\n",
       "    </tr>\n",
       "    <tr>\n",
       "      <th>4</th>\n",
       "      <td>188396</td>\n",
       "      <td>53</td>\n",
       "      <td>NaN</td>\n",
       "    </tr>\n",
       "  </tbody>\n",
       "</table>\n",
       "</div>"
      ],
      "text/plain": [
       "   order_id  cancellation_reason_id cancel_reason_text\n",
       "0    188424                      60                NaN\n",
       "1    188420                      59                NaN\n",
       "2    188401                      51                NaN\n",
       "3    188401                      53                NaN\n",
       "4    188396                      53                NaN"
      ]
     },
     "execution_count": 8,
     "metadata": {},
     "output_type": "execute_result"
    }
   ],
   "source": [
    "df.head()"
   ]
  },
  {
   "cell_type": "code",
   "execution_count": 9,
   "metadata": {},
   "outputs": [],
   "source": [
    "mergeddf = pd.merge(df, df1, on ='cancellation_reason_id')"
   ]
  },
  {
   "cell_type": "code",
   "execution_count": 14,
   "metadata": {},
   "outputs": [],
   "source": [
    "mergeddf.to_csv(\"mergeddf.csv\", index=False)"
   ]
  },
  {
   "cell_type": "code",
   "execution_count": 15,
   "metadata": {},
   "outputs": [
    {
     "data": {
      "text/html": [
       "<div>\n",
       "<style scoped>\n",
       "    .dataframe tbody tr th:only-of-type {\n",
       "        vertical-align: middle;\n",
       "    }\n",
       "\n",
       "    .dataframe tbody tr th {\n",
       "        vertical-align: top;\n",
       "    }\n",
       "\n",
       "    .dataframe thead th {\n",
       "        text-align: right;\n",
       "    }\n",
       "</style>\n",
       "<table border=\"1\" class=\"dataframe\">\n",
       "  <thead>\n",
       "    <tr style=\"text-align: right;\">\n",
       "      <th></th>\n",
       "      <th>order_id</th>\n",
       "      <th>cancellation_reason_id</th>\n",
       "      <th>cancel_reason_text</th>\n",
       "      <th>cancellation_reason_name</th>\n",
       "      <th>Complaint ID</th>\n",
       "    </tr>\n",
       "  </thead>\n",
       "  <tbody>\n",
       "    <tr>\n",
       "      <th>0</th>\n",
       "      <td>188424</td>\n",
       "      <td>60</td>\n",
       "      <td>NaN</td>\n",
       "      <td>Customer Has Already Purchased It From Somewhe...</td>\n",
       "      <td>5</td>\n",
       "    </tr>\n",
       "    <tr>\n",
       "      <th>1</th>\n",
       "      <td>188129</td>\n",
       "      <td>60</td>\n",
       "      <td>NaN</td>\n",
       "      <td>Customer Has Already Purchased It From Somewhe...</td>\n",
       "      <td>5</td>\n",
       "    </tr>\n",
       "    <tr>\n",
       "      <th>2</th>\n",
       "      <td>187993</td>\n",
       "      <td>60</td>\n",
       "      <td>NaN</td>\n",
       "      <td>Customer Has Already Purchased It From Somewhe...</td>\n",
       "      <td>5</td>\n",
       "    </tr>\n",
       "    <tr>\n",
       "      <th>3</th>\n",
       "      <td>187863</td>\n",
       "      <td>60</td>\n",
       "      <td>NaN</td>\n",
       "      <td>Customer Has Already Purchased It From Somewhe...</td>\n",
       "      <td>5</td>\n",
       "    </tr>\n",
       "    <tr>\n",
       "      <th>4</th>\n",
       "      <td>187793</td>\n",
       "      <td>60</td>\n",
       "      <td>NaN</td>\n",
       "      <td>Customer Has Already Purchased It From Somewhe...</td>\n",
       "      <td>5</td>\n",
       "    </tr>\n",
       "  </tbody>\n",
       "</table>\n",
       "</div>"
      ],
      "text/plain": [
       "   order_id  cancellation_reason_id cancel_reason_text  \\\n",
       "0    188424                      60                NaN   \n",
       "1    188129                      60                NaN   \n",
       "2    187993                      60                NaN   \n",
       "3    187863                      60                NaN   \n",
       "4    187793                      60                NaN   \n",
       "\n",
       "                            cancellation_reason_name  Complaint ID  \n",
       "0  Customer Has Already Purchased It From Somewhe...             5  \n",
       "1  Customer Has Already Purchased It From Somewhe...             5  \n",
       "2  Customer Has Already Purchased It From Somewhe...             5  \n",
       "3  Customer Has Already Purchased It From Somewhe...             5  \n",
       "4  Customer Has Already Purchased It From Somewhe...             5  "
      ]
     },
     "execution_count": 15,
     "metadata": {},
     "output_type": "execute_result"
    }
   ],
   "source": [
    "mergeddf.head()"
   ]
  },
  {
   "cell_type": "code",
   "execution_count": 16,
   "metadata": {},
   "outputs": [
    {
     "data": {
      "text/plain": [
       "((6064, 3), (25, 3), (6064, 5))"
      ]
     },
     "execution_count": 16,
     "metadata": {},
     "output_type": "execute_result"
    }
   ],
   "source": [
    "df.shape, df1.shape, mergeddf.shape"
   ]
  },
  {
   "cell_type": "code",
   "execution_count": 17,
   "metadata": {},
   "outputs": [
    {
     "data": {
      "text/html": [
       "<div>\n",
       "<style scoped>\n",
       "    .dataframe tbody tr th:only-of-type {\n",
       "        vertical-align: middle;\n",
       "    }\n",
       "\n",
       "    .dataframe tbody tr th {\n",
       "        vertical-align: top;\n",
       "    }\n",
       "\n",
       "    .dataframe thead th {\n",
       "        text-align: right;\n",
       "    }\n",
       "</style>\n",
       "<table border=\"1\" class=\"dataframe\">\n",
       "  <thead>\n",
       "    <tr style=\"text-align: right;\">\n",
       "      <th></th>\n",
       "      <th>order_id</th>\n",
       "      <th>cancellation_reason_id</th>\n",
       "      <th>cancel_reason_text</th>\n",
       "      <th>cancellation_reason_name</th>\n",
       "      <th>Complaint ID</th>\n",
       "    </tr>\n",
       "  </thead>\n",
       "  <tbody>\n",
       "    <tr>\n",
       "      <th>4184</th>\n",
       "      <td>188141</td>\n",
       "      <td>57</td>\n",
       "      <td>Repeat order</td>\n",
       "      <td>Other</td>\n",
       "      <td>4</td>\n",
       "    </tr>\n",
       "    <tr>\n",
       "      <th>4185</th>\n",
       "      <td>188139</td>\n",
       "      <td>57</td>\n",
       "      <td>Repeat order</td>\n",
       "      <td>Other</td>\n",
       "      <td>4</td>\n",
       "    </tr>\n",
       "    <tr>\n",
       "      <th>4186</th>\n",
       "      <td>187866</td>\n",
       "      <td>57</td>\n",
       "      <td>order cancel cantt pass isssue</td>\n",
       "      <td>Other</td>\n",
       "      <td>4</td>\n",
       "    </tr>\n",
       "    <tr>\n",
       "      <th>4187</th>\n",
       "      <td>187250</td>\n",
       "      <td>57</td>\n",
       "      <td>order cancel due to Androon side</td>\n",
       "      <td>Other</td>\n",
       "      <td>4</td>\n",
       "    </tr>\n",
       "    <tr>\n",
       "      <th>4188</th>\n",
       "      <td>187249</td>\n",
       "      <td>57</td>\n",
       "      <td>order cancel due to Androon side</td>\n",
       "      <td>Other</td>\n",
       "      <td>4</td>\n",
       "    </tr>\n",
       "    <tr>\n",
       "      <th>...</th>\n",
       "      <td>...</td>\n",
       "      <td>...</td>\n",
       "      <td>...</td>\n",
       "      <td>...</td>\n",
       "      <td>...</td>\n",
       "    </tr>\n",
       "    <tr>\n",
       "      <th>5895</th>\n",
       "      <td>151458</td>\n",
       "      <td>57</td>\n",
       "      <td>No go Area</td>\n",
       "      <td>Other</td>\n",
       "      <td>4</td>\n",
       "    </tr>\n",
       "    <tr>\n",
       "      <th>5896</th>\n",
       "      <td>151378</td>\n",
       "      <td>57</td>\n",
       "      <td>No go area</td>\n",
       "      <td>Other</td>\n",
       "      <td>4</td>\n",
       "    </tr>\n",
       "    <tr>\n",
       "      <th>5897</th>\n",
       "      <td>151312</td>\n",
       "      <td>57</td>\n",
       "      <td>No go Area</td>\n",
       "      <td>Other</td>\n",
       "      <td>4</td>\n",
       "    </tr>\n",
       "    <tr>\n",
       "      <th>5898</th>\n",
       "      <td>151310</td>\n",
       "      <td>57</td>\n",
       "      <td>incomplete order</td>\n",
       "      <td>Other</td>\n",
       "      <td>4</td>\n",
       "    </tr>\n",
       "    <tr>\n",
       "      <th>5899</th>\n",
       "      <td>151249</td>\n",
       "      <td>57</td>\n",
       "      <td>No go area</td>\n",
       "      <td>Other</td>\n",
       "      <td>4</td>\n",
       "    </tr>\n",
       "  </tbody>\n",
       "</table>\n",
       "<p>1716 rows × 5 columns</p>\n",
       "</div>"
      ],
      "text/plain": [
       "      order_id  cancellation_reason_id                  cancel_reason_text  \\\n",
       "4184    188141                      57                       Repeat order    \n",
       "4185    188139                      57                       Repeat order    \n",
       "4186    187866                      57     order cancel cantt pass isssue    \n",
       "4187    187250                      57   order cancel due to Androon side    \n",
       "4188    187249                      57   order cancel due to Androon side    \n",
       "...        ...                     ...                                 ...   \n",
       "5895    151458                      57                         No go Area    \n",
       "5896    151378                      57                         No go area    \n",
       "5897    151312                      57                         No go Area    \n",
       "5898    151310                      57                   incomplete order    \n",
       "5899    151249                      57                         No go area    \n",
       "\n",
       "     cancellation_reason_name  Complaint ID  \n",
       "4184                    Other             4  \n",
       "4185                    Other             4  \n",
       "4186                    Other             4  \n",
       "4187                    Other             4  \n",
       "4188                    Other             4  \n",
       "...                       ...           ...  \n",
       "5895                    Other             4  \n",
       "5896                    Other             4  \n",
       "5897                    Other             4  \n",
       "5898                    Other             4  \n",
       "5899                    Other             4  \n",
       "\n",
       "[1716 rows x 5 columns]"
      ]
     },
     "execution_count": 17,
     "metadata": {},
     "output_type": "execute_result"
    }
   ],
   "source": [
    "mergeddf[mergeddf['cancellation_reason_id'] == 57]"
   ]
  },
  {
   "cell_type": "code",
   "execution_count": 18,
   "metadata": {},
   "outputs": [
    {
     "data": {
      "text/plain": [
       " Shop Close                     313\n",
       " no service area                207\n",
       " No Service Area                192\n",
       " Cash Issue                     185\n",
       " Network issue                  137\n",
       " order cancel payment issue     123\n",
       " No Go Area                     105\n",
       " shop closed                     99\n",
       " Order Cancel Road Block         97\n",
       " Road Block                      89\n",
       " order cancel road block         82\n",
       " Shop close                      81\n",
       " cash issue                      77\n",
       " incomplete order                74\n",
       " order cancel shop close         73\n",
       "Name: cancel_reason_text, dtype: int64"
      ]
     },
     "execution_count": 18,
     "metadata": {},
     "output_type": "execute_result"
    }
   ],
   "source": [
    "mergeddf['cancel_reason_text'].value_counts().head(15)"
   ]
  },
  {
   "cell_type": "markdown",
   "metadata": {},
   "source": [
    "\n",
    "# Reasons for order cancellation\n",
    "- The other reasons are Shope close, No service area.\n",
    "- Here data is not clean as there are many spellings for  the same text."
   ]
  },
  {
   "cell_type": "code",
   "execution_count": null,
   "metadata": {},
   "outputs": [],
   "source": []
  },
  {
   "cell_type": "code",
   "execution_count": null,
   "metadata": {},
   "outputs": [],
   "source": []
  }
 ],
 "metadata": {
  "kernelspec": {
   "display_name": "Python 3.9.12 ('codanics')",
   "language": "python",
   "name": "python3"
  },
  "language_info": {
   "codemirror_mode": {
    "name": "ipython",
    "version": 3
   },
   "file_extension": ".py",
   "mimetype": "text/x-python",
   "name": "python",
   "nbconvert_exporter": "python",
   "pygments_lexer": "ipython3",
   "version": "3.9.12"
  },
  "orig_nbformat": 4,
  "vscode": {
   "interpreter": {
    "hash": "f6d3e9fb71085953427b954af1da4530e2e22a71f896c01206afb9ee06e2e660"
   }
  }
 },
 "nbformat": 4,
 "nbformat_minor": 2
}
